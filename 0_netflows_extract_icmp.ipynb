{
 "cells": [
  {
   "cell_type": "code",
   "execution_count": 1,
   "metadata": {},
   "outputs": [
    {
     "name": "stdout",
     "output_type": "stream",
     "text": [
      "Filtered logs: 119442\n",
      "Total number of logs: 119442\n"
     ]
    }
   ],
   "source": [
    "import elasticsearch\n",
    "from elasticsearch_dsl import Search\n",
    "from elasticsearch_dsl import Q\n",
    "import networkx as nx\n",
    "\n",
    "import pandas as pd\n",
    "import numpy as np\n",
    "import time\n",
    "\n",
    "import multiprocessing as mp\n",
    "\n",
    "es = elasticsearch.Elasticsearch([\"149.165.170.209:9200\"])\n",
    "#res = Search(using=es, index=\"filebeat*\").query(\"match\", username=\"root\")\n",
    "res = Search(using=es, index=\"packetbeat*\")\\\n",
    "        .query('bool', filter=Q('exists', field='ip')\\\n",
    "               & Q('exists', field='client_ip')\\\n",
    "               & Q('exists', field='type') & Q('exists', field='status')\\\n",
    "               & Q('exists', field='bytes_in') & Q('exists', field='bytes_out')\\\n",
    "               & Q('match', type='ICMP')\n",
    "              )\n",
    "\n",
    "response = res.execute()\n",
    "\n",
    "print(\"Filtered logs: %i\" %res.count()) #There is an error on the number of matched logs\n",
    "print(\"Total number of logs: %i\" %response.hits.total)"
   ]
  },
  {
   "cell_type": "code",
   "execution_count": 2,
   "metadata": {},
   "outputs": [
    {
     "name": "stdout",
     "output_type": "stream",
     "text": [
      "--- 0.0016312599182128906 seconds ---\n"
     ]
    }
   ],
   "source": [
    "#start_time = time.time()\n",
    "#df2 = pd.DataFrame(((hit[\"@timestamp\"],hit['type'],hit['status'],hit['ip'],hit['client_ip'],hit['bytes_in'],hit['bytes_out']) for hit in res),\\\n",
    "#                    columns=['Timestamp','type','status','ip','client_ip','bytes_in','bytes_out'])\n",
    "start_time = time.time()\n",
    "\n",
    "results= [[hit[\"@timestamp\"],hit['type'],hit['status'],hit['ip'],hit['client_ip'],hit['bytes_in'],hit['bytes_out']] for hit in res]\n",
    "\n",
    "print(\"--- %s seconds ---\" % (time.time() - start_time))"
   ]
  },
  {
   "cell_type": "code",
   "execution_count": 3,
   "metadata": {},
   "outputs": [
    {
     "data": {
      "text/plain": [
       "10"
      ]
     },
     "execution_count": 3,
     "metadata": {},
     "output_type": "execute_result"
    }
   ],
   "source": [
    "len(results)"
   ]
  },
  {
   "cell_type": "code",
   "execution_count": 4,
   "metadata": {},
   "outputs": [
    {
     "name": "stdout",
     "output_type": "stream",
     "text": [
      "[['2018-10-24T21:43:50.052Z', 'icmp', 'OK', '8.8.8.8', '10.1.1.65', 56, 56], ['2018-10-24T21:43:41.035Z', 'icmp', 'OK', '8.8.8.8', '10.1.1.65', 56, 56], ['2018-10-24T21:43:48.048Z', 'icmp', 'OK', '8.8.8.8', '10.1.1.65', 56, 56], ['2018-10-24T21:44:12.089Z', 'icmp', 'OK', '8.8.8.8', '10.1.1.65', 56, 56], ['2018-10-24T21:44:14.093Z', 'icmp', 'OK', '8.8.8.8', '10.1.1.65', 56, 56], ['2018-10-24T21:44:02.071Z', 'icmp', 'OK', '8.8.8.8', '10.1.1.65', 56, 56], ['2018-10-24T21:44:13.091Z', 'icmp', 'OK', '8.8.8.8', '10.1.1.65', 56, 56], ['2018-10-24T21:47:14.135Z', 'icmp', 'OK', '10.1.1.4', '10.1.1.65', 56, 56], ['2018-10-24T22:27:16.377Z', 'icmp', 'OK', '10.1.1.61', '203.178.148.19', 4, 4], ['2018-10-24T22:28:04.232Z', 'icmp', 'OK', '10.1.1.48', '206.117.25.90', 4, 4]]\n"
     ]
    }
   ],
   "source": [
    "print(results[0:10])"
   ]
  },
  {
   "cell_type": "code",
   "execution_count": 5,
   "metadata": {},
   "outputs": [],
   "source": [
    "#\"/home/ubuntu/logs/cups_access.log\"\n",
    "#def process(es_query):\n",
    "#    results= [[hit[\"@timestamp\"],hit['type'],hit['status'],hit['ip'],hit['client_ip'],hit['bytes_in'],hit['bytes_out']] for hit in es_query]\n",
    "#    for i in results:\n",
    "#        print(i)\n",
    "#    return results\n",
    "             \n",
    "#init objects\n",
    "#cores=47\n",
    "#pool = mp.Pool(cores)\n",
    "\n",
    "#start_time = time.time()\n",
    "#print(\"============== RESULTS =============\")\n",
    "#pool.map(process,res)\n",
    "\n",
    "#print(netflows_lst[0:10])\n",
    "\n",
    "#clean up\n",
    "#pool.close()\n",
    "\n",
    "#print(\"--- %s seconds ---\" % (time.time() - start_time))\n",
    "\n"
   ]
  },
  {
   "cell_type": "code",
   "execution_count": 7,
   "metadata": {},
   "outputs": [],
   "source": [
    "df_icmp = pd.DataFrame(((hit[\"@timestamp\"],hit['type'],hit['status'],hit['ip'],hit['client_ip'],hit['bytes_in'],hit['bytes_out']) for hit in res),\\\n",
    "                    columns=['Timestamp','type','status','ip','client_ip','bytes_in','bytes_out'])\n",
    "df_icmp.to_pickle(\"icmp_dataframe.pkl\")"
   ]
  },
  {
   "cell_type": "code",
   "execution_count": null,
   "metadata": {},
   "outputs": [],
   "source": []
  }
 ],
 "metadata": {
  "kernelspec": {
   "display_name": "Python 3",
   "language": "python",
   "name": "python3"
  },
  "language_info": {
   "codemirror_mode": {
    "name": "ipython",
    "version": 3
   },
   "file_extension": ".py",
   "mimetype": "text/x-python",
   "name": "python",
   "nbconvert_exporter": "python",
   "pygments_lexer": "ipython3",
   "version": "3.5.2"
  }
 },
 "nbformat": 4,
 "nbformat_minor": 2
}
