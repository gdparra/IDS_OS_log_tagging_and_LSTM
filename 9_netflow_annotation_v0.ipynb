{
 "cells": [
  {
   "cell_type": "code",
   "execution_count": null,
   "metadata": {},
   "outputs": [
    {
     "name": "stderr",
     "output_type": "stream",
     "text": [
      "/usr/lib/python3.5/importlib/_bootstrap.py:222: RuntimeWarning: numpy.dtype size changed, may indicate binary incompatibility. Expected 96, got 88\n",
      "  return f(*args, **kwds)\n",
      "/usr/lib/python3.5/importlib/_bootstrap.py:222: RuntimeWarning: numpy.dtype size changed, may indicate binary incompatibility. Expected 96, got 88\n",
      "  return f(*args, **kwds)\n",
      " 92%|█████████▏| 11/12 [24:26<03:00, 180.41s/it]"
     ]
    }
   ],
   "source": [
    "import json\n",
    "from tqdm import tqdm\n",
    "from collections import Counter\n",
    "import operator\n",
    "import pandas as pd\n",
    "import string\n",
    "import preprocessor as p\n",
    "from nltk import bigrams, trigrams\n",
    "from collections import defaultdict\n",
    "import multiprocessing as mp,os\n",
    "\n",
    "data = []\n",
    "\n",
    "for i in tqdm(range(10,22)):\n",
    "    with open(('/mnt/sdb/json_files/' + 'netflows_2018-11-{}.json').format(i)) as json_file:\n",
    "        data+=json.load(json_file)"
   ]
  },
  {
   "cell_type": "code",
   "execution_count": null,
   "metadata": {},
   "outputs": [],
   "source": [
    "# nf_annotated = []\n",
    "# for datapoint in tqdm(data):\n",
    "    \n",
    "#     annotation = dict()\n",
    "    \n",
    "#     if datapoint['type'] == 'flow':\n",
    "#         try:\n",
    "#             if datapoint['dest']['ip'][:3] != '10.':\n",
    "#                 annotation['ip'] = datapoint['dest']['ip'] # out and gets the destination ip\n",
    "#             else: \n",
    "#                 annotation['ip'] = datapoint['source']['ip']# in and gets the source ip\n",
    "#         except:\n",
    "#             continue\n",
    "                    \n",
    "#     elif datapoint['type'] == 'icmp':\n",
    "#         if datapoint['icmp']['request']['type'] == 8:\n",
    "#             annotation['ip'] = datapoint['client_ip']\n",
    "#         else: \n",
    "#             annotation['ip'] = datapoint['ip']\n",
    "            \n",
    "#     else:\n",
    "#         if datapoint['direction'] == 'in':\n",
    "#             annotation['ip'] = datapoint['client_ip']\n",
    "#         else: \n",
    "#             annotation['ip'] = datapoint['ip']\n",
    "#     annotation['type'] = datapoint['type']\n",
    "#     nf_annotated.append(annotation)"
   ]
  },
  {
   "cell_type": "code",
   "execution_count": null,
   "metadata": {},
   "outputs": [],
   "source": [
    "nf_annotated = []\n",
    "for datapoint in tqdm(data):\n",
    "    \n",
    "    annotation = dict()\n",
    "    try:\n",
    "        if datapoint['client_ip'][:3] == '10.':\n",
    "            if datapoint['ip'][:3] == '10.':\n",
    "                continue\n",
    "            else:\n",
    "                annotation['ip'] = datapoint['ip']\n",
    "        else: \n",
    "            annotation['ip'] = datapoint['client_ip']\n",
    "    except:\n",
    "            continue\n",
    "    annotation['type'] = datapoint['type']\n",
    "    nf_annotated.append(annotation)"
   ]
  },
  {
   "cell_type": "code",
   "execution_count": null,
   "metadata": {},
   "outputs": [],
   "source": [
    "with open(\"nf_annotated.json\", \"w\") as output_file:\n",
    "    json.dump(nf_annotated, output_file)"
   ]
  },
  {
   "cell_type": "code",
   "execution_count": null,
   "metadata": {},
   "outputs": [],
   "source": []
  }
 ],
 "metadata": {
  "kernelspec": {
   "display_name": "Python 3",
   "language": "python",
   "name": "python3"
  },
  "language_info": {
   "codemirror_mode": {
    "name": "ipython",
    "version": 3
   },
   "file_extension": ".py",
   "mimetype": "text/x-python",
   "name": "python",
   "nbconvert_exporter": "python",
   "pygments_lexer": "ipython3",
   "version": "3.5.2"
  }
 },
 "nbformat": 4,
 "nbformat_minor": 2
}
