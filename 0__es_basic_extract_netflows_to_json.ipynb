{
 "cells": [
  {
   "cell_type": "code",
   "execution_count": 1,
   "metadata": {},
   "outputs": [
    {
     "name": "stdout",
     "output_type": "stream",
     "text": [
      "{'query': {'bool': {'filter': [{'range': {'@timestamp': {'gte': '2018-11-22T00:00:00.000Z', 'lt': '2018-11-22T23:59:59.999Z'}}}]}}}\n",
      "Filtered logs: 5443994\n",
      "Total number of logs: 5443994\n"
     ]
    }
   ],
   "source": [
    "import elasticsearch\n",
    "import unicodedata\n",
    "import csv\n",
    "from elasticsearch_dsl.aggs import Terms, Nested\n",
    "from elasticsearch_dsl.search import Search\n",
    "from elasticsearch_dsl import Q\n",
    "import networkx as nx\n",
    "import pandas as pd\n",
    "from pandas.io.json import json_normalize\n",
    "import json\n",
    "import pickle\n",
    "import datetime\n",
    "from pandasticsearch import Select\n",
    "import numpy as np\n",
    "\n",
    "es = elasticsearch.Elasticsearch([\"149.165.170.209:9200\"])\n",
    "\n",
    "#####################################################################\n",
    "# Make your Query with elasticsearch_dsl\n",
    "#####################################################################\n",
    "res = Search(using=es, index=\"packetbeat*\").filter('range',**{\"@timestamp\":{'gte': '2018-11-22T00:00:00.000Z', 'lt' : '2018-11-22T23:59:59.999Z'}}).params(request_timeout=10000)#.sort(\"timestamp\", {'order': \"desc\"})\n",
    "\n",
    "#####################################################################\n",
    "# Print the underlying JSON representation of your Query\n",
    "#####################################################################\n",
    "res_json = res.to_dict()\n",
    "print(res_json)\n",
    "    \n",
    "#####################################################################\n",
    "# Response execution\n",
    "#####################################################################\n",
    "response = res.execute()\n",
    "#####################################################################\n",
    "\n",
    "print(\"Filtered logs: %i\" %res.count()) #There is an error on the number of matched logs\n",
    "print(\"Total number of logs: %i\" %response.hits.total)"
   ]
  },
  {
   "cell_type": "code",
   "execution_count": 2,
   "metadata": {},
   "outputs": [
    {
     "name": "stdout",
     "output_type": "stream",
     "text": [
      "2019-07-19 22:43:35.629305\n"
     ]
    }
   ],
   "source": [
    "#####################################################################\n",
    "# Make a small test for normalizing a json response (single flow) from elasticsearch\n",
    "#####################################################################\n",
    "test_json = {'flow_id': 'EQQA////DP//////FP8BAAH6Fj4hHCz6Fj5kj2kKAQFBCgEBGLQTxuw', 'host': {'name': 'elk-master'}, 'start_time': '2018-10-23T23:47:34.605Z', '@timestamp': '2018-10-23T23:48:20.193Z', 'type': 'flow', 'source': {'ip': '10.1.1.24', 'port': 60614, 'stats': {'net_bytes_total': 14750, 'net_packets_total': 48}, 'mac': 'fa:16:3e:64:8f:69'}, 'final': False, 'tags': ['beats_input_raw_event'], 'dest': {'ip': '10.1.1.65', 'port': 5044, 'stats': {'net_bytes_total': 2424, 'net_packets_total': 24}, 'mac': 'fa:16:3e:21:1c:2c'}, 'beat': {'hostname': 'elk-master', 'name': 'elk-master', 'version': '6.4.2'}, 'transport': 'tcp', '@version': '1', 'last_time': '2018-10-23T23:48:17.797Z'}\n",
    "pandas_test_df = json_normalize(test_json)\n",
    "pandas_test_df.head()\n",
    "print(datetime.datetime.now())\n",
    "# n_rows = len(pandas_df.index)\n",
    "# if (n_rows % 1) == 0:\n",
    "#     print(n_rows)\n"
   ]
  },
  {
   "cell_type": "code",
   "execution_count": 3,
   "metadata": {},
   "outputs": [],
   "source": [
    "#print(res.scan()['hits']['hits'])"
   ]
  },
  {
   "cell_type": "code",
   "execution_count": 4,
   "metadata": {},
   "outputs": [
    {
     "name": "stdout",
     "output_type": "stream",
     "text": [
      "#####################\n",
      "2019-07-19 22:43:35.687728\n",
      "#####################\n",
      "2019-07-19 22:44:58.152734\n",
      "250000\n",
      "2019-07-19 22:46:30.041573\n",
      "500000\n",
      "2019-07-19 22:48:08.701935\n",
      "750000\n",
      "2019-07-19 22:49:47.696667\n",
      "1000000\n",
      "2019-07-19 22:51:17.326489\n",
      "1250000\n",
      "2019-07-19 22:52:49.579998\n",
      "1500000\n",
      "2019-07-19 22:54:34.264381\n",
      "1750000\n",
      "2019-07-19 22:56:05.628415\n",
      "2000000\n",
      "2019-07-19 22:57:40.431123\n",
      "2250000\n",
      "2019-07-19 22:59:12.961027\n",
      "2500000\n",
      "2019-07-19 23:00:38.611544\n",
      "2750000\n",
      "2019-07-19 23:02:19.011273\n",
      "3000000\n",
      "2019-07-19 23:03:42.761540\n",
      "3250000\n",
      "2019-07-19 23:05:12.646972\n",
      "3500000\n",
      "2019-07-19 23:06:43.289765\n",
      "3750000\n",
      "2019-07-19 23:08:30.344765\n",
      "4000000\n",
      "2019-07-19 23:09:48.360063\n",
      "4250000\n",
      "2019-07-19 23:11:13.757775\n",
      "4500000\n",
      "2019-07-19 23:12:43.966241\n",
      "4750000\n",
      "2019-07-19 23:14:10.493545\n",
      "5000000\n",
      "2019-07-19 23:15:22.127119\n",
      "5250000\n",
      "2019-07-19 23:16:54.191934\n",
      "5443994\n"
     ]
    }
   ],
   "source": [
    "## # CNormalize each response (flow in response) and append to dataframe\n",
    "#####################################################################\n",
    "print(\"#####################\")\n",
    "print(datetime.datetime.now())\n",
    "print(\"#####################\")\n",
    "counter = 0\n",
    "gonzalo_list =[]\n",
    "\n",
    "for hits in res.scan():\n",
    "    #print(hits.meta.id)\n",
    "    #print(hits.meta.index)\n",
    "    temp_json = hits.to_dict()\n",
    "    temp_json['meta_id'] = hits.meta.id\n",
    "    temp_json['meta_index'] = hits.meta.index\n",
    "    #temp_json_pretty = json.dumps(temp_json, indent=4)\n",
    "    gonzalo_list.append(temp_json)\n",
    "    #print(temp_json_pretty)\n",
    "    #print(\"\\n\")\n",
    "    counter+=1\n",
    "    if (counter % 250000) == 0:\n",
    "        print(datetime.datetime.now())\n",
    "        print(counter)\n",
    "        #print(\"\\n\")\n",
    "print(datetime.datetime.now())\n",
    "print(counter)\n",
    "with open('/mnt/sdb/json_files/netflows_2018-11-22.json','w') as outfile:\n",
    "    json.dump(gonzalo_list, outfile, ensure_ascii=False, indent=2)\n",
    "#     temp_df = json_normalize(hits.to_dict())\n",
    "#     #main_pandas_df = pd.concat([main_pandas_df,temp_df],axis=1)\n",
    "#     main_pandas_df = main_pandas_df.append(temp_df, ignore_index=True, sort=False)\n",
    "#     n_rows = len(main_pandas_df.index)\n",
    "#     if (n_rows % 2500) == 0:\n",
    "#         print(datetime.datetime.now())\n",
    "#         print(n_rows)\n",
    "#         print(\"\\n\")\n",
    "    \n",
    "#####################################################################\n",
    "# Visualize the results\n",
    "#####################################################################\n",
    "#main_pandas_df.head(50)\n",
    "outfile.close()"
   ]
  },
  {
   "cell_type": "code",
   "execution_count": 5,
   "metadata": {},
   "outputs": [
    {
     "name": "stdout",
     "output_type": "stream",
     "text": [
      "#########################\n",
      "Done\n",
      "#########################\n",
      "2019-07-19 23:23:48.111208\n"
     ]
    }
   ],
   "source": [
    "print(\"#########################\")\n",
    "print(\"Done\")\n",
    "print(\"#########################\")\n",
    "print(datetime.datetime.now())"
   ]
  },
  {
   "cell_type": "code",
   "execution_count": null,
   "metadata": {},
   "outputs": [],
   "source": []
  },
  {
   "cell_type": "code",
   "execution_count": null,
   "metadata": {},
   "outputs": [],
   "source": []
  }
 ],
 "metadata": {
  "kernelspec": {
   "display_name": "Python 3",
   "language": "python",
   "name": "python3"
  },
  "language_info": {
   "codemirror_mode": {
    "name": "ipython",
    "version": 3
   },
   "file_extension": ".py",
   "mimetype": "text/x-python",
   "name": "python",
   "nbconvert_exporter": "python",
   "pygments_lexer": "ipython3",
   "version": "3.5.2"
  }
 },
 "nbformat": 4,
 "nbformat_minor": 2
}
