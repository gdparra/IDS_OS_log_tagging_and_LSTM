{
 "cells": [
  {
   "cell_type": "code",
   "execution_count": 1,
   "metadata": {},
   "outputs": [
    {
     "ename": "ImportError",
     "evalue": "No module named 'elasticsearch_dsl'",
     "output_type": "error",
     "traceback": [
      "\u001b[0;31m---------------------------------------------------------------------------\u001b[0m",
      "\u001b[0;31mImportError\u001b[0m                               Traceback (most recent call last)",
      "\u001b[0;32m<ipython-input-1-a20bc54ac9ba>\u001b[0m in \u001b[0;36m<module>\u001b[0;34m\u001b[0m\n\u001b[1;32m      2\u001b[0m \u001b[0;32mimport\u001b[0m \u001b[0municodedata\u001b[0m\u001b[0;34m\u001b[0m\u001b[0m\n\u001b[1;32m      3\u001b[0m \u001b[0;32mimport\u001b[0m \u001b[0mcsv\u001b[0m\u001b[0;34m\u001b[0m\u001b[0m\n\u001b[0;32m----> 4\u001b[0;31m \u001b[0;32mfrom\u001b[0m \u001b[0melasticsearch_dsl\u001b[0m \u001b[0;32mimport\u001b[0m \u001b[0mSearch\u001b[0m\u001b[0;34m\u001b[0m\u001b[0m\n\u001b[0m\u001b[1;32m      5\u001b[0m \u001b[0;32mfrom\u001b[0m \u001b[0melasticsearch_dsl\u001b[0m \u001b[0;32mimport\u001b[0m \u001b[0mQ\u001b[0m\u001b[0;34m\u001b[0m\u001b[0m\n\u001b[1;32m      6\u001b[0m \u001b[0;32mimport\u001b[0m \u001b[0mnetworkx\u001b[0m \u001b[0;32mas\u001b[0m \u001b[0mnx\u001b[0m\u001b[0;34m\u001b[0m\u001b[0m\n",
      "\u001b[0;31mImportError\u001b[0m: No module named 'elasticsearch_dsl'"
     ]
    }
   ],
   "source": [
    "import elasticsearch\n",
    "import unicodedata\n",
    "import csv\n",
    "from elasticsearch_dsl import Search\n",
    "from elasticsearch_dsl import Q\n",
    "import networkx as nx\n",
    "import modin.pandas as pd\n",
    "import numpy as np\n",
    "#import seaborn as sns\n",
    "#from multiprocessing import Pool\n",
    "\n",
    "es = elasticsearch.Elasticsearch([\"10.1.1.65:9200\"])\n",
    "#res = Search(using=es, index=\"filebeat*\").query(\"match\", username=\"root\")\n",
    "res = Search(using=es, index=\"packetbeat*\")\\\n",
    "        .query('bool', filter=Q('exists', field='ip')\\\n",
    "               & Q('exists', field='client_ip')\\\n",
    "               & Q('exists', field='type') & Q('exists', field='status')\\\n",
    "               & Q('exists', field='bytes_in') & Q('exists', field='bytes_out')\\\n",
    "               & Q('match', type='ICMP')\n",
    "              )\n",
    "\n",
    "response = res.execute()\n",
    "\n",
    "print(\"Filtered logs: %i\" %res.count()) #There is an error on the number of matched logs\n",
    "print(\"Total number of logs: %i\" %response.hits.total)\n",
    "\n"
   ]
  },
  {
   "cell_type": "code",
   "execution_count": null,
   "metadata": {},
   "outputs": [],
   "source": [
    "df_2 = df2 = pd.DataFrame(((hit[\"@timestamp\"],hit['type'],hit['status'],hit['ip'],hit['client_ip'],hit['bytes_in'],hit['bytes_out']) for hit in res.scan()),\\\n",
    "                    columns=['Timestamp','type','status','ip','client_ip','bytes_in','bytes_out'])\n",
    "df2"
   ]
  }
 ],
 "metadata": {
  "kernelspec": {
   "display_name": "Python 3",
   "language": "python",
   "name": "python3"
  },
  "language_info": {
   "codemirror_mode": {
    "name": "ipython",
    "version": 3
   },
   "file_extension": ".py",
   "mimetype": "text/x-python",
   "name": "python",
   "nbconvert_exporter": "python",
   "pygments_lexer": "ipython3",
   "version": "3.5.2"
  }
 },
 "nbformat": 4,
 "nbformat_minor": 2
}
