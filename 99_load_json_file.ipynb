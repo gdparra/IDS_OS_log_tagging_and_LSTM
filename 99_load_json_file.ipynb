{
 "cells": [
  {
   "cell_type": "code",
   "execution_count": 1,
   "metadata": {},
   "outputs": [
    {
     "name": "stdout",
     "output_type": "stream",
     "text": [
      "{'final': False, 'beat': {'name': 'bigdata-vm-34', 'hostname': 'bigdata-vm-34', 'version': '6.4.2'}, 'host': {'name': 'bigdata-vm-34'}, 'tags': ['beats_input_raw_event', '_grokparsefailure'], 'meta_id': 'IeOrrWYBxmOQxNQpv8LR', 'transport': 'tcp', 'last_time': '2018-10-25T23:59:45.281Z', '@version': '1', 'type': 'flow', '@timestamp': '2018-10-26T00:00:04.138Z', 'source': {'port': 8888, 'ip': '10.1.1.30', 'stats': {'net_bytes_total': 9366, 'net_packets_total': 167}, 'mac': 'fa:16:3e:a4:9e:b7'}, 'meta_index': 'packetbeat-2018.10.26', 'start_time': '2018-10-25T23:26:15.547Z', 'dest': {'port': 56581, 'ip': '129.115.195.34', 'stats': {'net_bytes_total': 6036, 'net_packets_total': 99}, 'mac': 'fa:16:3e:c4:81:0d'}, 'flow_id': 'EQQA////DP//////FP8BAAH6Fj6knrf6Fj7EgQ0KAQEegXPDIrgiBd0'}\n"
     ]
    }
   ],
   "source": [
    "import json\n",
    "\n",
    "with open('/mnt/sdb/netflows_2018-10-26.json') as json_file:  \n",
    "    data = json.load(json_file)\n",
    "print(data[1])"
   ]
  },
  {
   "cell_type": "code",
   "execution_count": 2,
   "metadata": {},
   "outputs": [],
   "source": [
    "json_file.close()"
   ]
  },
  {
   "cell_type": "code",
   "execution_count": 11,
   "metadata": {},
   "outputs": [],
   "source": [
    "test_data = data[1]"
   ]
  },
  {
   "cell_type": "code",
   "execution_count": 14,
   "metadata": {},
   "outputs": [
    {
     "name": "stdout",
     "output_type": "stream",
     "text": [
      "{\n",
      "    \"@timestamp\": \"2018-10-26T00:00:04.138Z\",\n",
      "    \"@version\": \"1\",\n",
      "    \"beat\": {\n",
      "        \"hostname\": \"bigdata-vm-34\",\n",
      "        \"name\": \"bigdata-vm-34\",\n",
      "        \"version\": \"6.4.2\"\n",
      "    },\n",
      "    \"dest\": {\n",
      "        \"ip\": \"129.115.195.34\",\n",
      "        \"mac\": \"fa:16:3e:c4:81:0d\",\n",
      "        \"port\": 56581,\n",
      "        \"stats\": {\n",
      "            \"net_bytes_total\": 6036,\n",
      "            \"net_packets_total\": 99\n",
      "        }\n",
      "    },\n",
      "    \"final\": false,\n",
      "    \"flow_id\": \"EQQA////DP//////FP8BAAH6Fj6knrf6Fj7EgQ0KAQEegXPDIrgiBd0\",\n",
      "    \"host\": {\n",
      "        \"name\": \"bigdata-vm-34\"\n",
      "    },\n",
      "    \"last_time\": \"2018-10-25T23:59:45.281Z\",\n",
      "    \"meta_id\": \"IeOrrWYBxmOQxNQpv8LR\",\n",
      "    \"meta_index\": \"packetbeat-2018.10.26\",\n",
      "    \"source\": {\n",
      "        \"ip\": \"10.1.1.30\",\n",
      "        \"mac\": \"fa:16:3e:a4:9e:b7\",\n",
      "        \"port\": 8888,\n",
      "        \"stats\": {\n",
      "            \"net_bytes_total\": 9366,\n",
      "            \"net_packets_total\": 167\n",
      "        }\n",
      "    },\n",
      "    \"start_time\": \"2018-10-25T23:26:15.547Z\",\n",
      "    \"tags\": [\n",
      "        \"beats_input_raw_event\",\n",
      "        \"_grokparsefailure\"\n",
      "    ],\n",
      "    \"transport\": \"tcp\",\n",
      "    \"type\": \"flow\"\n",
      "}\n"
     ]
    },
    {
     "data": {
      "text/plain": [
       "'IeOrrWYBxmOQxNQpv8LR'"
      ]
     },
     "execution_count": 14,
     "metadata": {},
     "output_type": "execute_result"
    }
   ],
   "source": [
    "print(json.dumps(test_data, indent=4, sort_keys=True))\n",
    "test_data[\"meta_id\"]"
   ]
  },
  {
   "cell_type": "code",
   "execution_count": null,
   "metadata": {},
   "outputs": [],
   "source": []
  }
 ],
 "metadata": {
  "kernelspec": {
   "display_name": "Python 3",
   "language": "python",
   "name": "python3"
  },
  "language_info": {
   "codemirror_mode": {
    "name": "ipython",
    "version": 3
   },
   "file_extension": ".py",
   "mimetype": "text/x-python",
   "name": "python",
   "nbconvert_exporter": "python",
   "pygments_lexer": "ipython3",
   "version": "3.5.2"
  }
 },
 "nbformat": 4,
 "nbformat_minor": 2
}
