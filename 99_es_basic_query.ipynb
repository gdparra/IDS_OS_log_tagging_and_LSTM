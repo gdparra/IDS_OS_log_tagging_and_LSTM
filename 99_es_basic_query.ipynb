{
 "cells": [
  {
   "cell_type": "code",
   "execution_count": 1,
   "metadata": {},
   "outputs": [
    {
     "name": "stdout",
     "output_type": "stream",
     "text": [
      "{'query': {'bool': {'filter': [{'range': {'@timestamp': {'gte': '2018-10-27T00:00:00.000Z', 'lt': '2018-10-27T23:59:59.999Z'}}}]}}}\n",
      "Filtered logs: 4723499\n",
      "Total number of logs: 4723499\n"
     ]
    }
   ],
   "source": [
    "import elasticsearch\n",
    "import unicodedata\n",
    "import csv\n",
    "from elasticsearch_dsl.aggs import Terms, Nested\n",
    "from elasticsearch_dsl.search import Search\n",
    "from elasticsearch_dsl import Q\n",
    "import networkx as nx\n",
    "import pandas as pd\n",
    "import pickle\n",
    "import datetime\n",
    "from pandasticsearch import Select\n",
    "import numpy as np\n",
    "\n",
    "es = elasticsearch.Elasticsearch([\"149.165.170.209:9200\"])\n",
    "\n",
    "#####################################################################\n",
    "# Make your Query with elasticsearch_dsl\n",
    "#####################################################################\n",
    "res = Search(using=es, index=\"packetbeat*\").filter('range',**{\"@timestamp\":{'gte': '2018-10-27T00:00:00.000Z', 'lt' : '2018-10-27T23:59:59.999Z'}}).params(request_timeout=10000)#.sort(\"timestamp\", {'order': \"desc\"})\n",
    "#####################################################################\n",
    "# Print the underlying JSON representation of your Query\n",
    "#####################################################################\n",
    "#res_json = res.to_dict()\n",
    "#print(res_json)\n",
    "\n",
    "response = res.execute()\n",
    "\n",
    "print(\"Filtered logs: %i\" %res.count()) #There is an error on the number of matched logs\n",
    "print(\"Total number of logs: %i\" %response.hits.total)\n"
   ]
  },
  {
   "cell_type": "code",
   "execution_count": null,
   "metadata": {},
   "outputs": [],
   "source": []
  }
 ],
 "metadata": {
  "kernelspec": {
   "display_name": "Python 3",
   "language": "python",
   "name": "python3"
  },
  "language_info": {
   "codemirror_mode": {
    "name": "ipython",
    "version": 3
   },
   "file_extension": ".py",
   "mimetype": "text/x-python",
   "name": "python",
   "nbconvert_exporter": "python",
   "pygments_lexer": "ipython3",
   "version": "3.5.2"
  }
 },
 "nbformat": 4,
 "nbformat_minor": 2
}
