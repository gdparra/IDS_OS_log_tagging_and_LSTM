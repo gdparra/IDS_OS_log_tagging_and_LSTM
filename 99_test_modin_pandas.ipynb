{
 "cells": [
  {
   "cell_type": "code",
   "execution_count": 3,
   "metadata": {},
   "outputs": [
    {
     "name": "stderr",
     "output_type": "stream",
     "text": [
      "GET http://149.165.170.209:9200/packetbeat*/_search [status:200 request:8.236s]\n"
     ]
    },
    {
     "name": "stdout",
     "output_type": "stream",
     "text": [
      "Filtered logs: 119442\n",
      "Total number of logs: 119442\n"
     ]
    }
   ],
   "source": [
    "import elasticsearch\n",
    "from elasticsearch_dsl import Search\n",
    "from elasticsearch_dsl import Q\n",
    "import networkx as nx\n",
    "#import pandas as pd\n",
    "#print(pd.__version__)\n",
    "#print(pd.__file__)\n",
    "#import ray\n",
    "#ray.shutdown()\n",
    "#ray.init()\n",
    "#object_store_memory = int(0.6 * ray.utils.get_system_memory() // 10 ** 9 * 10 ** 9)\n",
    "#ray.init(\n",
    "#            include_webui=False,\n",
    "#            ignore_reinit_error=True,\n",
    "#            plasma_directory=\"/mnt/sdb/modin\",\n",
    "#            object_store_memory=object_store_memory,\n",
    "#        )\n",
    "#ray.worker.get_address_info_from_redis_helper(\"<head-node-ip>:6379\", \"<head-node-ip>\")\n",
    "#import modin.pandas as pd\n",
    "import numpy as np\n",
    "import time\n",
    "#import seaborn as sns\n",
    "#from multiprocessing import Pool\n",
    "\n",
    "es = elasticsearch.Elasticsearch([\"149.165.170.209:9200\"])\n",
    "#res = Search(using=es, index=\"filebeat*\").query(\"match\", username=\"root\")\n",
    "res = Search(using=es, index=\"packetbeat*\")\\\n",
    "        .query('bool', filter=Q('exists', field='ip')\\\n",
    "               & Q('exists', field='client_ip')\\\n",
    "               & Q('exists', field='type') & Q('exists', field='status')\\\n",
    "               & Q('exists', field='bytes_in') & Q('exists', field='bytes_out')\\\n",
    "               & Q('match', type='ICMP')\n",
    "              )\n",
    "\n",
    "response = res.execute()\n",
    "\n",
    "print(\"Filtered logs: %i\" %res.count()) #There is an error on the number of matched logs\n",
    "print(\"Total number of logs: %i\" %response.hits.total)\n",
    "\n",
    "#tqdm.pandas()\n",
    "\n"
   ]
  },
  {
   "cell_type": "code",
   "execution_count": null,
   "metadata": {},
   "outputs": [],
   "source": [
    "start_time = time.time()\n",
    "df2 = pd.DataFrame(((hit[\"@timestamp\"],hit['type'],hit['status'],hit['ip'],hit['client_ip'],hit['bytes_in'],hit['bytes_out']) for hit in res),\\\n",
    "                    columns=['Timestamp','type','status','ip','client_ip','bytes_in','bytes_out'])\n",
    "\n",
    "print(\"--- %s seconds ---\" % (time.time() - start_time))"
   ]
  },
  {
   "cell_type": "code",
   "execution_count": null,
   "metadata": {},
   "outputs": [],
   "source": [
    "df2[:10]"
   ]
  },
  {
   "cell_type": "code",
   "execution_count": null,
   "metadata": {},
   "outputs": [],
   "source": [
    "ray.shutdown()"
   ]
  },
  {
   "cell_type": "code",
   "execution_count": null,
   "metadata": {},
   "outputs": [],
   "source": []
  }
 ],
 "metadata": {
  "kernelspec": {
   "display_name": "Python 3",
   "language": "python",
   "name": "python3"
  },
  "language_info": {
   "codemirror_mode": {
    "name": "ipython",
    "version": 3
   },
   "file_extension": ".py",
   "mimetype": "text/x-python",
   "name": "python",
   "nbconvert_exporter": "python",
   "pygments_lexer": "ipython3",
   "version": "3.5.2"
  }
 },
 "nbformat": 4,
 "nbformat_minor": 2
}
