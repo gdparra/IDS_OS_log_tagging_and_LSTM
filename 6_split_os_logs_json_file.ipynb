{
 "cells": [
  {
   "cell_type": "code",
   "execution_count": null,
   "metadata": {},
   "outputs": [],
   "source": [
    "import json\n",
    "with open('/mnt/sdb/nos_logs_2018-10-12_2019-03-29.json') as infile:\n",
    "    o = json.load(infile)\n",
    "    chunkSize = 4000000\n",
    "    for i in range(0, len(o), chunkSize):\n",
    "        with open('chunks/file_' + str(i//chunkSize) + '.json', 'w') as outfile:\n",
    "            json.dump(o[i:i+chunkSize], outfile)"
   ]
  },
  {
   "cell_type": "code",
   "execution_count": null,
   "metadata": {},
   "outputs": [],
   "source": []
  }
 ],
 "metadata": {
  "kernelspec": {
   "display_name": "Python 3",
   "language": "python",
   "name": "python3"
  },
  "language_info": {
   "codemirror_mode": {
    "name": "ipython",
    "version": 3
   },
   "file_extension": ".py",
   "mimetype": "text/x-python",
   "name": "python",
   "nbconvert_exporter": "python",
   "pygments_lexer": "ipython3",
   "version": "3.5.2"
  }
 },
 "nbformat": 4,
 "nbformat_minor": 2
}
